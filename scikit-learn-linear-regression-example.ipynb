{
 "cells": [
  {
   "cell_type": "markdown",
   "id": "e6d8e3b2",
   "metadata": {},
   "source": [
    "<table><tr><td><a href=\"https://mybinder.org/v2/gh/markcrowe-com/machine-learning/master?filepath=training-split.ipynb\" target=\"_parent\"><img src=\"https://mybinder.org/badge_logo.svg\" alt=\"Open In Binder\"/></a></td><td>online editors</td><td><a href=\"https://colab.research.google.com/github/markcrowe-com/machine-learning/blob/master/training-split.ipynb\" target=\"_parent\"><img src=\"https://colab.research.google.com/assets/colab-badge.svg\" alt=\"Open In Colab\"/></a></td></tr></table>"
   ]
  },
  {
   "cell_type": "markdown",
   "id": "7f88a321",
   "metadata": {},
   "source": [
    "# Training"
   ]
  },
  {
   "cell_type": "markdown",
   "id": "209b7e76",
   "metadata": {},
   "source": [
    "# Machine Learning\n",
    "2. Data  \n",
    "3. Split the data into groups: Train (75%) /Test (25%)\n",
    "4. Linear regession train with train data\n",
    "5. Linear regession to work on the test data\n"
   ]
  },
  {
   "cell_type": "code",
   "execution_count": 2,
   "id": "d177618e",
   "metadata": {},
   "outputs": [],
   "source": [
    "# Importing the libraries\n",
    "import numpy as np\n",
    "import matplotlib.pyplot as plt\n",
    "import pandas as pd"
   ]
  },
  {
   "cell_type": "code",
   "execution_count": null,
   "id": "d8ec0265",
   "metadata": {},
   "outputs": [],
   "source": [
    "# Importing the dataset\n",
    "dataset = pd.read_csv('Salary.csv')"
   ]
  },
  {
   "cell_type": "code",
   "execution_count": 29,
   "id": "6c4a824a",
   "metadata": {},
   "outputs": [
    {
     "data": {
      "text/html": [
       "<div>\n",
       "<style scoped>\n",
       "    .dataframe tbody tr th:only-of-type {\n",
       "        vertical-align: middle;\n",
       "    }\n",
       "\n",
       "    .dataframe tbody tr th {\n",
       "        vertical-align: top;\n",
       "    }\n",
       "\n",
       "    .dataframe thead th {\n",
       "        text-align: right;\n",
       "    }\n",
       "</style>\n",
       "<table border=\"1\" class=\"dataframe\">\n",
       "  <thead>\n",
       "    <tr style=\"text-align: right;\">\n",
       "      <th></th>\n",
       "      <th>YearsExperience</th>\n",
       "      <th>Salary</th>\n",
       "    </tr>\n",
       "  </thead>\n",
       "  <tbody>\n",
       "    <tr>\n",
       "      <th>0</th>\n",
       "      <td>1.1</td>\n",
       "      <td>39343</td>\n",
       "    </tr>\n",
       "    <tr>\n",
       "      <th>1</th>\n",
       "      <td>1.3</td>\n",
       "      <td>46205</td>\n",
       "    </tr>\n",
       "    <tr>\n",
       "      <th>2</th>\n",
       "      <td>1.5</td>\n",
       "      <td>37731</td>\n",
       "    </tr>\n",
       "    <tr>\n",
       "      <th>3</th>\n",
       "      <td>2.0</td>\n",
       "      <td>43525</td>\n",
       "    </tr>\n",
       "    <tr>\n",
       "      <th>4</th>\n",
       "      <td>2.2</td>\n",
       "      <td>39891</td>\n",
       "    </tr>\n",
       "  </tbody>\n",
       "</table>\n",
       "</div>"
      ],
      "text/plain": [
       "   YearsExperience  Salary\n",
       "0              1.1   39343\n",
       "1              1.3   46205\n",
       "2              1.5   37731\n",
       "3              2.0   43525\n",
       "4              2.2   39891"
      ]
     },
     "execution_count": 29,
     "metadata": {},
     "output_type": "execute_result"
    }
   ],
   "source": [
    "dataset.head()"
   ]
  },
  {
   "cell_type": "code",
   "execution_count": 3,
   "id": "e6d9021b",
   "metadata": {},
   "outputs": [],
   "source": [
    "X = dataset.iloc[:, :-1].values\n",
    "y = dataset.iloc[:, -1].values"
   ]
  },
  {
   "cell_type": "code",
   "execution_count": 10,
   "id": "ec976089",
   "metadata": {},
   "outputs": [
    {
     "data": {
      "text/plain": [
       "array([ 39343,  46205,  37731,  43525,  39891,  56642,  60150,  54445,\n",
       "        64445,  57189,  63218,  55794,  56957,  57081,  61111,  67938,\n",
       "        66029,  83088,  81363,  93940,  91738,  98273, 101302, 113812,\n",
       "       109431, 105582, 116969, 112635, 122391, 121872, 127345, 126756,\n",
       "       128765, 135675, 139465], dtype=int64)"
      ]
     },
     "execution_count": 10,
     "metadata": {},
     "output_type": "execute_result"
    }
   ],
   "source": [
    "y"
   ]
  },
  {
   "cell_type": "code",
   "execution_count": 22,
   "id": "a2dcbb8f",
   "metadata": {},
   "outputs": [],
   "source": [
    "# Splitting the dataset into the Training set and Test set\n",
    "from sklearn.model_selection import train_test_split\n",
    "X_train, X_test, y_train, y_test = train_test_split(X, y, test_size = 0.2, random_state = 0)"
   ]
  },
  {
   "cell_type": "code",
   "execution_count": 23,
   "id": "4007214c",
   "metadata": {},
   "outputs": [
    {
     "data": {
      "text/plain": [
       "array([ 37731,  55794, 112635, 105582, 139465, 128765, 116969, 127345,\n",
       "        64445,  57081,  56642,  83088,  61111, 126756, 109431,  46205,\n",
       "        56957,  60150, 113812,  39891,  81363,  98273,  93940,  57189,\n",
       "        54445, 135675,  43525,  39343], dtype=int64)"
      ]
     },
     "execution_count": 23,
     "metadata": {},
     "output_type": "execute_result"
    }
   ],
   "source": [
    "(y_train)"
   ]
  },
  {
   "cell_type": "code",
   "execution_count": 25,
   "id": "19dc0b07",
   "metadata": {},
   "outputs": [
    {
     "name": "stdout",
     "output_type": "stream",
     "text": [
      "[[120057.88 121872.  ]\n",
      " [ 88127.64  91738.  ]\n",
      " [ 73457.    66029.  ]\n",
      " [118331.92 122391.  ]\n",
      " [ 97620.42 101302.  ]\n",
      " [ 71731.04  67938.  ]\n",
      " [ 63101.25  63218.  ]]\n"
     ]
    },
    {
     "data": {
      "text/plain": [
       "0.9708090245443415"
      ]
     },
     "execution_count": 25,
     "metadata": {},
     "output_type": "execute_result"
    }
   ],
   "source": [
    "# Training the Multiple Linear Regression model on the Training set\n",
    "from sklearn.linear_model import LinearRegression\n",
    "regressor = LinearRegression()\n",
    "regressor.fit(X_train, y_train)\n",
    "\n",
    "# Predicting the Test set results\n",
    "y_pred = regressor.predict(X_test)\n",
    "\n",
    "np.set_printoptions(precision=2)\n",
    "\n",
    "#join columns\n",
    "print(np.concatenate((y_pred.reshape(len(y_pred),1), y_test.reshape(len(y_test),1)),1))\n",
    "\n",
    "# Evaluating the Model Performance\n",
    "from sklearn.metrics import r2_score\n",
    "r2_score(y_test, y_pred)"
   ]
  },
  {
   "cell_type": "code",
   "execution_count": 26,
   "id": "a11600df",
   "metadata": {
    "scrolled": true
   },
   "outputs": [
    {
     "data": {
      "text/plain": [
       "array([120057.88,  88127.64,  73457.  , 118331.92,  97620.42,  71731.04,\n",
       "        63101.25])"
      ]
     },
     "execution_count": 26,
     "metadata": {},
     "output_type": "execute_result"
    }
   ],
   "source": [
    "regressor.predict(X_test)"
   ]
  },
  {
   "cell_type": "code",
   "execution_count": 27,
   "id": "709f0f3d",
   "metadata": {},
   "outputs": [
    {
     "data": {
      "text/plain": [
       "array([121872,  91738,  66029, 122391, 101302,  67938,  63218],\n",
       "      dtype=int64)"
      ]
     },
     "execution_count": 27,
     "metadata": {},
     "output_type": "execute_result"
    }
   ],
   "source": [
    "y_test"
   ]
  }
 ],
 "metadata": {
  "kernelspec": {
   "display_name": "Python 3",
   "language": "python",
   "name": "python3"
  },
  "language_info": {
   "codemirror_mode": {
    "name": "ipython",
    "version": 3
   },
   "file_extension": ".py",
   "mimetype": "text/x-python",
   "name": "python",
   "nbconvert_exporter": "python",
   "pygments_lexer": "ipython3",
   "version": "3.8.8"
  }
 },
 "nbformat": 4,
 "nbformat_minor": 5
}
